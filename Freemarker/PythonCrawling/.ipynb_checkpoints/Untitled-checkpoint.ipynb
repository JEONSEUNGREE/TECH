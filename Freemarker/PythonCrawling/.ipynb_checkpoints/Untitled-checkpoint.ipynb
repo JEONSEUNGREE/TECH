{
 "cells": [
  {
   "cell_type": "code",
   "execution_count": null,
   "id": "a7949903",
   "metadata": {},
   "outputs": [],
   "source": [
    "from flask import Flask, url_for, request, jsonify, redirect, Response\n",
    "from flask_cors import CORS, cross_origin\n",
    "from selenium.webdriver.common.keys import Keys\n",
    "\n",
    "import json\n",
    "import requests"
   ]
  },
  {
   "cell_type": "code",
   "execution_count": null,
   "id": "3c598054",
   "metadata": {},
   "outputs": [],
   "source": [
    "import selenium\n",
    "from selenium import webdriver"
   ]
  },
  {
   "cell_type": "code",
   "execution_count": null,
   "id": "fad31f2c",
   "metadata": {},
   "outputs": [],
   "source": [
    "app = Flask(__name__)\n",
    "CORS(app)\n",
    "\n",
    "@app.route('/vue2pythonCrawlRequest', methods = ['GET', 'POST'])\n",
    "def vue2pythonCrawlRequest():\n",
    "    \n",
    "    params = json.loads(request.get_data(), encoding='utf-8')\n",
    "    print(\"params: \", params)\n",
    "    \n",
    "    url = \"https://www.youtube.com/results?search_query=\"\n",
    "    \n",
    "    # hidden 옵션(눈에 보이지 않고 은신 상태로 동작함)\n",
    "    options = webdriver.ChromeOptions()\n",
    "    options.add_argument('--headless')\n",
    "    options.add_argument('--window-size=1024,768')\n",
    "    options.add_argument('--disable-gpu')\n",
    "\n",
    "    driver = webdriver.Chrome(r\"D:\\java_work/TECH/Freemarker/PythonCrawling/chromedriver.exe\", options = options)\n",
    "    \n",
    "    search_url = url + params['search_keyword']\n",
    "    driver.get(url = search_url)\n",
    "\n",
    "    allTitles = driver.find_elements_by_id(\"video-title\")\n",
    "    titles = []\n",
    "\n",
    "    for item in allTitles:\n",
    "        if (item != ''):\n",
    "            titles.append(item.get_attribute('title'))\n",
    "\n",
    "    print(titles)\n",
    "    # hidden일지라도 리소스가 사용되므로 모든 작업이 완료되었으면 종료함\n",
    "    driver.close()\n",
    "    \n",
    "    return jsonify(titles)\n",
    "    \n",
    "if __name__ == \"__main__\":\n",
    "    app.run()"
   ]
  },
  {
   "cell_type": "code",
   "execution_count": null,
   "id": "a7be5669",
   "metadata": {},
   "outputs": [],
   "source": []
  },
  {
   "cell_type": "code",
   "execution_count": null,
   "id": "780ae9df",
   "metadata": {},
   "outputs": [],
   "source": []
  },
  {
   "cell_type": "code",
   "execution_count": null,
   "id": "cbc97f03",
   "metadata": {},
   "outputs": [],
   "source": []
  },
  {
   "cell_type": "code",
   "execution_count": null,
   "id": "8614fc33",
   "metadata": {},
   "outputs": [],
   "source": []
  }
 ],
 "metadata": {
  "kernelspec": {
   "display_name": "Python 3",
   "language": "python",
   "name": "python3"
  },
  "language_info": {
   "codemirror_mode": {
    "name": "ipython",
    "version": 3
   },
   "file_extension": ".py",
   "mimetype": "text/x-python",
   "name": "python",
   "nbconvert_exporter": "python",
   "pygments_lexer": "ipython3",
   "version": "3.8.8"
  }
 },
 "nbformat": 4,
 "nbformat_minor": 5
}
