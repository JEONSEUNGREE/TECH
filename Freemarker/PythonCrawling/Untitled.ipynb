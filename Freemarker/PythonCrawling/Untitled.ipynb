{
 "cells": [
  {
   "cell_type": "code",
   "execution_count": 4,
   "id": "a7949903",
   "metadata": {},
   "outputs": [],
   "source": [
    "from flask import Flask, url_for, request, jsonify, redirect, Response\n",
    "from flask_cors import CORS, cross_origin\n",
    "\n",
    "import json\n",
    "import requests"
   ]
  },
  {
   "cell_type": "code",
   "execution_count": 5,
   "id": "3c598054",
   "metadata": {},
   "outputs": [],
   "source": [
    "import selenium\n",
    "from selenium import webdriver"
   ]
  },
  {
   "cell_type": "code",
   "execution_count": null,
   "id": "fad31f2c",
   "metadata": {},
   "outputs": [
    {
     "name": "stdout",
     "output_type": "stream",
     "text": [
      " * Serving Flask app \"__main__\" (lazy loading)\n",
      " * Environment: production\n",
      "\u001b[31m   WARNING: This is a development server. Do not use it in a production deployment.\u001b[0m\n",
      "\u001b[2m   Use a production WSGI server instead.\u001b[0m\n",
      " * Debug mode: off\n"
     ]
    },
    {
     "name": "stderr",
     "output_type": "stream",
     "text": [
      " * Running on http://127.0.0.1:5000/ (Press CTRL+C to quit)\n",
      "127.0.0.1 - - [07/Jan/2022 17:00:39] \"GET / HTTP/1.1\" 404 -\n",
      "127.0.0.1 - - [07/Jan/2022 17:00:39] \"GET /favicon.ico HTTP/1.1\" 404 -\n",
      "C:\\Users\\User\\AppData\\Local\\Temp/ipykernel_12032/148667145.py:20: DeprecationWarning: executable_path has been deprecated, please pass in a Service object\n",
      "  driver = webdriver.Chrome(r\"C:\\Users/User/Downloads/WORKSPACE/TECH/Freemarker/PythonCrawling/chromedriver.exe\", options = options)\n",
      "C:\\Users\\User\\AppData\\Local\\Temp/ipykernel_12032/148667145.py:26: DeprecationWarning: find_elements_by_* commands are deprecated. Please use find_elements() instead\n",
      "  allTitles = driver.find_elements_by_id(\"video-title\")\n"
     ]
    },
    {
     "name": "stdout",
     "output_type": "stream",
     "text": [
      "['15 Basic Concepts of the FreeMarker Template Engine', 'Apache Freemarker 템플릿 기본', 'Java Web扩展-Freemarker', 'Java Web扩展-Freemarker-1.FreeMarker概述', 'Java Web扩展-Freemarker-2.FreeMarker的基本使用', 'FreeMarker + Spring Boot', '32_8:FreeMarker|Spring Boot| View Technology| PostgreSQL| PostgreSQL |Client Side Installation', '32_7:FreeMarker|Spring Boot| View Technology| PostgreSQL| PostgreSQL |Spring profiles|GUI testing', 'Spring Boot FreeMarker 튜토리얼', '001 Spring FreeMarker', 'Spring Boot - Using FreeMarker Template Engine | Java Techie', '10 freemarker的使用方法', 'Java Web扩展-Freemarker-1.FreeMarker概述', 'Apache FreeMarker', '111 freemarker freemarker的基本语法', 'Free marker Template | Java Example | Free marker List Example', '네이버 쇼핑 바뀐 로직, 어떻게 대처해야하는지 풀버전 공개 (프리미엄등급 80억 연매출 대표가 직접 품)', '자바스크립트와 자바의 차이점을 알려줌: 변수편', 'OMR카드에 칠하지 말라는 부분을 칠하면 어떻게 될까?', '무료 플러그인 / 강력한 무료 컴프레서 MJUC jr Free Compressor / Plug-in & Hardware Tutorial #142', 'Freemarker: Как перестать писать рутинный код, Алексей Быков, Лаборатория Касперского', 'Liferay - FreeMarker', 'Liferay Application Display Templates', 'Liferay Themes Development in 6.2', '간단한 Freemarker/Alfresco 예제', 'Java Web扩展 Freemarker 1 FreeMarker概述', 'Spring Boot Freemarker: подключаем шаблонизатор Freemarker', 'Веб-разработка на Java. Урок 7. FreeMarker Intro.', '비 웹 애플리케이션용 Apache FreeMarker', 'Spring Boot + FreeMarker Hello World Example']\n"
     ]
    },
    {
     "name": "stderr",
     "output_type": "stream",
     "text": [
      "127.0.0.1 - - [07/Jan/2022 17:03:20] \"GET /imageCrawl HTTP/1.1\" 200 -\n"
     ]
    },
    {
     "name": "stdout",
     "output_type": "stream",
     "text": [
      "['15 Basic Concepts of the FreeMarker Template Engine', 'Apache Freemarker 템플릿 기본', 'Java Web扩展-Freemarker', 'Java Web扩展-Freemarker-1.FreeMarker概述', 'Java Web扩展-Freemarker-2.FreeMarker的基本使用', 'FreeMarker + Spring Boot', '32_8:FreeMarker|Spring Boot| View Technology| PostgreSQL| PostgreSQL |Client Side Installation', '32_7:FreeMarker|Spring Boot| View Technology| PostgreSQL| PostgreSQL |Spring profiles|GUI testing', 'Spring Boot FreeMarker 튜토리얼', '001 Spring FreeMarker', 'Apache FreeMarker', 'Spring Boot - Using FreeMarker Template Engine | Java Techie', '10 freemarker的使用方法', 'Java Web扩展-Freemarker-1.FreeMarker概述', '111 freemarker freemarker的基本语法', 'Free marker Template | Java Example | Free marker List Example', '네이버 쇼핑 바뀐 로직, 어떻게 대처해야하는지 풀버전 공개 (프리미엄등급 80억 연매출 대표가 직접 품)', 'OMR카드에 칠하지 말라는 부분을 칠하면 어떻게 될까?', '자바스크립트와 자바의 차이점을 알려줌: 변수편', '무료 플러그인 / 강력한 무료 컴프레서 MJUC jr Free Compressor / Plug-in & Hardware Tutorial #142', 'Freemarker: Как перестать писать рутинный код, Алексей Быков, Лаборатория Касперского', 'Liferay - FreeMarker', 'Liferay Application Display Templates', 'Liferay Themes Development in 6.2', '간단한 Freemarker/Alfresco 예제', 'Java Web扩展 Freemarker 1 FreeMarker概述', 'Spring Boot Freemarker: подключаем шаблонизатор Freemarker', 'Spring Boot + FreeMarker Hello World Example', 'Spring Boot + FreeMarker Example', 'Java Web扩展 Freemarker', 'Java Web扩展 Freemarker 1 FreeMarker概述', 'Java Web扩展 Freemarker 2 FreeMarker的基本使用']\n"
     ]
    },
    {
     "name": "stderr",
     "output_type": "stream",
     "text": [
      "127.0.0.1 - - [07/Jan/2022 17:14:07] \"GET /imageCrawl HTTP/1.1\" 200 -\n"
     ]
    },
    {
     "name": "stdout",
     "output_type": "stream",
     "text": [
      "['15 Basic Concepts of the FreeMarker Template Engine', 'Apache Freemarker 템플릿 기본', 'Java Web扩展-Freemarker', 'Java Web扩展-Freemarker-1.FreeMarker概述', 'Java Web扩展-Freemarker-2.FreeMarker的基本使用', 'FreeMarker + Spring Boot', '32_8:FreeMarker|Spring Boot| View Technology| PostgreSQL| PostgreSQL |Client Side Installation', '32_7:FreeMarker|Spring Boot| View Technology| PostgreSQL| PostgreSQL |Spring profiles|GUI testing', 'Spring Boot FreeMarker 튜토리얼', 'Apache FreeMarker', '001 Spring FreeMarker', '10 freemarker的使用方法', 'Spring Boot - Using FreeMarker Template Engine | Java Techie', 'Free marker Template | Java Example | Free marker List Example', 'Java Web扩展-Freemarker-1.FreeMarker概述', '111 freemarker freemarker的基本语法', '네이버 쇼핑 바뀐 로직, 어떻게 대처해야하는지 풀버전 공개 (프리미엄등급 80억 연매출 대표가 직접 품)', 'OMR카드에 칠하지 말라는 부분을 칠하면 어떻게 될까?', '자바스크립트와 자바의 차이점을 알려줌: 변수편', '무료 플러그인 / 강력한 무료 컴프레서 MJUC jr Free Compressor / Plug-in & Hardware Tutorial #142', 'Freemarker: Как перестать писать рутинный код, Алексей Быков, Лаборатория Касперского', 'Liferay - FreeMarker', 'Liferay Application Display Templates', 'Liferay Themes Development in 6.2', '간단한 Freemarker/Alfresco 예제', 'Java Web扩展 Freemarker', 'Java Web扩展 Freemarker 1 FreeMarker概述', 'Java Web扩展 Freemarker 2 FreeMarker的基本使用', 'Spring Boot Freemarker: подключаем шаблонизатор Freemarker', 'Spring Boot + FreeMarker Example', 'Spring Boot + FreeMarker Hello World Example']\n"
     ]
    },
    {
     "name": "stderr",
     "output_type": "stream",
     "text": [
      "127.0.0.1 - - [07/Jan/2022 17:14:10] \"GET /imageCrawl HTTP/1.1\" 200 -\n"
     ]
    },
    {
     "name": "stdout",
     "output_type": "stream",
     "text": [
      "['15 Basic Concepts of the FreeMarker Template Engine', 'Apache Freemarker 템플릿 기본', 'Java Web扩展-Freemarker', 'Java Web扩展-Freemarker-1.FreeMarker概述', 'Java Web扩展-Freemarker-2.FreeMarker的基本使用', 'Spring Boot FreeMarker 튜토리얼', 'Apache FreeMarker', 'FreeMarker + Spring Boot', '32_8:FreeMarker|Spring Boot| View Technology| PostgreSQL| PostgreSQL |Client Side Installation', '32_7:FreeMarker|Spring Boot| View Technology| PostgreSQL| PostgreSQL |Spring profiles|GUI testing', '001 Spring FreeMarker', 'Spring Boot - Using FreeMarker Template Engine | Java Techie', '10 freemarker的使用方法', 'Java Web扩展-Freemarker-1.FreeMarker概述', 'Free marker Template | Java Example | Free marker List Example', 'Freemarker: Как перестать писать рутинный код, Алексей Быков, Лаборатория Касперского', '네이버 쇼핑 바뀐 로직, 어떻게 대처해야하는지 풀버전 공개 (프리미엄등급 80억 연매출 대표가 직접 품)', 'OMR카드에 칠하지 말라는 부분을 칠하면 어떻게 될까?', '자바스크립트와 자바의 차이점을 알려줌: 변수편', '무료 플러그인 / 강력한 무료 컴프레서 MJUC jr Free Compressor / Plug-in & Hardware Tutorial #142', '111 freemarker freemarker的基本语法', '간단한 Freemarker/Alfresco 예제', 'Liferay - FreeMarker', 'Liferay Application Display Templates', 'Liferay Themes Development in 6.2', 'Spring Boot Freemarker: подключаем шаблонизатор Freemarker', 'Java Web扩展 Freemarker 1 FreeMarker概述', 'Веб-разработка на Java. Урок 7. FreeMarker Intro.', 'Spring Boot + FreeMarker Example', 'Spring Boot + FreeMarker Hello World Example']\n",
      "['15 Basic Concepts of the FreeMarker Template Engine', 'Apache Freemarker 템플릿 기본', 'Java Web扩展-Freemarker', 'Java Web扩展-Freemarker-1.FreeMarker概述', 'Java Web扩展-Freemarker-2.FreeMarker的基本使用', 'FreeMarker + Spring Boot', '32_8:FreeMarker|Spring Boot| View Technology| PostgreSQL| PostgreSQL |Client Side Installation', '32_7:FreeMarker|Spring Boot| View Technology| PostgreSQL| PostgreSQL |Spring profiles|GUI testing', 'Spring Boot FreeMarker 튜토리얼', '001 Spring FreeMarker', 'Apache FreeMarker', 'Spring Boot - Using FreeMarker Template Engine | Java Techie', '10 freemarker的使用方法', 'Java Web扩展-Freemarker-1.FreeMarker概述', '111 freemarker freemarker的基本语法', 'Free marker Template | Java Example | Free marker List Example', '네이버 쇼핑 바뀐 로직, 어떻게 대처해야하는지 풀버전 공개 (프리미엄등급 80억 연매출 대표가 직접 품)', 'OMR카드에 칠하지 말라는 부분을 칠하면 어떻게 될까?', '자바스크립트와 자바의 차이점을 알려줌: 변수편', '무료 플러그인 / 강력한 무료 컴프레서 MJUC jr Free Compressor / Plug-in & Hardware Tutorial #142', 'Freemarker: Как перестать писать рутинный код, Алексей Быков, Лаборатория Касперского', 'Liferay - FreeMarker', 'Liferay Application Display Templates', 'Liferay Themes Development in 6.2']\n",
      "['15 Basic Concepts of the FreeMarker Template Engine', 'Apache Freemarker 템플릿 기본', 'Java Web扩展-Freemarker', 'Java Web扩展-Freemarker-1.FreeMarker概述', 'Java Web扩展-Freemarker-2.FreeMarker的基本使用', 'FreeMarker + Spring Boot', '32_8:FreeMarker|Spring Boot| View Technology| PostgreSQL| PostgreSQL |Client Side Installation', '32_7:FreeMarker|Spring Boot| View Technology| PostgreSQL| PostgreSQL |Spring profiles|GUI testing', 'Spring Boot FreeMarker 튜토리얼', '001 Spring FreeMarker', 'Spring Boot - Using FreeMarker Template Engine | Java Techie', '10 freemarker的使用方法', 'Java Web扩展-Freemarker-1.FreeMarker概述', '111 freemarker freemarker的基本语法', 'Free marker Template | Java Example | Free marker List Example', 'Apache FreeMarker', '네이버 쇼핑 바뀐 로직, 어떻게 대처해야하는지 풀버전 공개 (프리미엄등급 80억 연매출 대표가 직접 품)', '자바스크립트와 자바의 차이점을 알려줌: 변수편', 'OMR카드에 칠하지 말라는 부분을 칠하면 어떻게 될까?', '무료 플러그인 / 강력한 무료 컴프레서 MJUC jr Free Compressor / Plug-in & Hardware Tutorial #142', 'Freemarker: Как перестать писать рутинный код, Алексей Быков, Лаборатория Касперского']\n",
      "['15 Basic Concepts of the FreeMarker Template Engine', 'Apache Freemarker 템플릿 기본', 'Java Web扩展-Freemarker', 'Java Web扩展-Freemarker-1.FreeMarker概述', 'Java Web扩展-Freemarker-2.FreeMarker的基本使用', 'FreeMarker + Spring Boot', '32_8:FreeMarker|Spring Boot| View Technology| PostgreSQL| PostgreSQL |Client Side Installation', '32_7:FreeMarker|Spring Boot| View Technology| PostgreSQL| PostgreSQL |Spring profiles|GUI testing', 'Spring Boot FreeMarker 튜토리얼', '001 Spring FreeMarker', 'Apache FreeMarker', 'Spring Boot - Using FreeMarker Template Engine | Java Techie', '10 freemarker的使用方法', 'Java Web扩展-Freemarker-1.FreeMarker概述', '111 freemarker freemarker的基本语法', 'Free marker Template | Java Example | Free marker List Example', '네이버 쇼핑 바뀐 로직, 어떻게 대처해야하는지 풀버전 공개 (프리미엄등급 80억 연매출 대표가 직접 품)', 'OMR카드에 칠하지 말라는 부분을 칠하면 어떻게 될까?', '자바스크립트와 자바의 차이점을 알려줌: 변수편', '무료 플러그인 / 강력한 무료 컴프레서 MJUC jr Free Compressor / Plug-in & Hardware Tutorial #142', 'Freemarker: Как перестать писать рутинный код, Алексей Быков, Лаборатория Касперского', 'Liferay - FreeMarker', 'Liferay Application Display Templates', 'Liferay Themes Development in 6.2']\n"
     ]
    },
    {
     "name": "stderr",
     "output_type": "stream",
     "text": [
      "127.0.0.1 - - [07/Jan/2022 17:14:13] \"GET /imageCrawl HTTP/1.1\" 200 -\n"
     ]
    },
    {
     "name": "stdout",
     "output_type": "stream",
     "text": [
      "['15 Basic Concepts of the FreeMarker Template Engine', 'Apache Freemarker 템플릿 기본', 'Java Web扩展-Freemarker', 'Java Web扩展-Freemarker-1.FreeMarker概述', 'Java Web扩展-Freemarker-2.FreeMarker的基本使用', 'FreeMarker + Spring Boot', '32_8:FreeMarker|Spring Boot| View Technology| PostgreSQL| PostgreSQL |Client Side Installation', '32_7:FreeMarker|Spring Boot| View Technology| PostgreSQL| PostgreSQL |Spring profiles|GUI testing', 'Spring Boot FreeMarker 튜토리얼', '001 Spring FreeMarker', 'Apache FreeMarker', 'Spring Boot - Using FreeMarker Template Engine | Java Techie', '10 freemarker的使用方法', 'Java Web扩展-Freemarker-1.FreeMarker概述', '111 freemarker freemarker的基本语法', 'Free marker Template | Java Example | Free marker List Example', '네이버 쇼핑 바뀐 로직, 어떻게 대처해야하는지 풀버전 공개 (프리미엄등급 80억 연매출 대표가 직접 품)', 'OMR카드에 칠하지 말라는 부분을 칠하면 어떻게 될까?', '자바스크립트와 자바의 차이점을 알려줌: 변수편', '무료 플러그인 / 강력한 무료 컴프레서 MJUC jr Free Compressor / Plug-in & Hardware Tutorial #142', 'Freemarker: Как перестать писать рутинный код, Алексей Быков, Лаборатория Касперского', 'Liferay - FreeMarker', 'Liferay Application Display Templates', 'Liferay Themes Development in 6.2', '간단한 Freemarker/Alfresco 예제', 'Java Web扩展 Freemarker 1 FreeMarker概述', 'Spring Boot Freemarker: подключаем шаблонизатор Freemarker']\n",
      "['15 Basic Concepts of the FreeMarker Template Engine', 'Apache Freemarker 템플릿 기본', 'Java Web扩展-Freemarker', 'Java Web扩展-Freemarker-1.FreeMarker概述', 'Java Web扩展-Freemarker-2.FreeMarker的基本使用', 'FreeMarker + Spring Boot', '32_8:FreeMarker|Spring Boot| View Technology| PostgreSQL| PostgreSQL |Client Side Installation', '32_7:FreeMarker|Spring Boot| View Technology| PostgreSQL| PostgreSQL |Spring profiles|GUI testing', 'Spring Boot FreeMarker 튜토리얼', 'Apache FreeMarker', '001 Spring FreeMarker', 'Spring Boot - Using FreeMarker Template Engine | Java Techie', '10 freemarker的使用方法', 'Java Web扩展-Freemarker-1.FreeMarker概述', '111 freemarker freemarker的基本语法', 'Free marker Template | Java Example | Free marker List Example', '네이버 쇼핑 바뀐 로직, 어떻게 대처해야하는지 풀버전 공개 (프리미엄등급 80억 연매출 대표가 직접 품)', 'OMR카드에 칠하지 말라는 부분을 칠하면 어떻게 될까?', '자바스크립트와 자바의 차이점을 알려줌: 변수편', '무료 플러그인 / 강력한 무료 컴프레서 MJUC jr Free Compressor / Plug-in & Hardware Tutorial #142', 'Freemarker: Как перестать писать рутинный код, Алексей Быков, Лаборатория Касперского', 'Liferay - FreeMarker', 'Liferay Application Display Templates', 'Liferay Themes Development in 6.2', 'Java Web扩展 Freemarker 1 FreeMarker概述', '간단한 Freemarker/Alfresco 예제', 'Spring Boot Freemarker: подключаем шаблонизатор Freemarker', 'Spring Boot + FreeMarker Hello World Example', 'Spring Boot + FreeMarker Example', 'Java Web扩展 Freemarker', 'Java Web扩展 Freemarker 1 FreeMarker概述', 'Java Web扩展 Freemarker 2 FreeMarker的基本使用']\n"
     ]
    },
    {
     "name": "stderr",
     "output_type": "stream",
     "text": [
      "127.0.0.1 - - [07/Jan/2022 17:14:14] \"GET /imageCrawl HTTP/1.1\" 200 -\n",
      "127.0.0.1 - - [07/Jan/2022 17:14:14] \"GET /imageCrawl HTTP/1.1\" 200 -\n",
      "127.0.0.1 - - [07/Jan/2022 17:14:14] \"GET /imageCrawl HTTP/1.1\" 200 -\n",
      "127.0.0.1 - - [07/Jan/2022 17:14:15] \"GET /imageCrawl HTTP/1.1\" 200 -\n",
      "127.0.0.1 - - [07/Jan/2022 17:14:16] \"GET /imageCrawl HTTP/1.1\" 200 -\n"
     ]
    },
    {
     "name": "stdout",
     "output_type": "stream",
     "text": [
      "['15 Basic Concepts of the FreeMarker Template Engine', 'Apache Freemarker 템플릿 기본', 'Java Web扩展-Freemarker', 'Java Web扩展-Freemarker-1.FreeMarker概述', 'Java Web扩展-Freemarker-2.FreeMarker的基本使用', 'FreeMarker + Spring Boot', '32_8:FreeMarker|Spring Boot| View Technology| PostgreSQL| PostgreSQL |Client Side Installation', '32_7:FreeMarker|Spring Boot| View Technology| PostgreSQL| PostgreSQL |Spring profiles|GUI testing', 'Spring Boot FreeMarker 튜토리얼', '001 Spring FreeMarker', 'Apache FreeMarker', 'Spring Boot - Using FreeMarker Template Engine | Java Techie', '10 freemarker的使用方法', 'Java Web扩展-Freemarker-1.FreeMarker概述', '111 freemarker freemarker的基本语法', 'Free marker Template | Java Example | Free marker List Example', '네이버 쇼핑 바뀐 로직, 어떻게 대처해야하는지 풀버전 공개 (프리미엄등급 80억 연매출 대표가 직접 품)', 'OMR카드에 칠하지 말라는 부분을 칠하면 어떻게 될까?', '자바스크립트와 자바의 차이점을 알려줌: 변수편', '무료 플러그인 / 강력한 무료 컴프레서 MJUC jr Free Compressor / Plug-in & Hardware Tutorial #142', 'Freemarker: Как перестать писать рутинный код, Алексей Быков, Лаборатория Касперского', 'Liferay - FreeMarker', 'Liferay Application Display Templates', 'Liferay Themes Development in 6.2', '간단한 Freemarker/Alfresco 예제', 'Java Web扩展 Freemarker 1 FreeMarker概述', 'Spring Boot Freemarker: подключаем шаблонизатор Freemarker', 'Spring Boot + FreeMarker Hello World Example', 'Spring Boot + FreeMarker Example', 'Java Web扩展 Freemarker', 'Java Web扩展 Freemarker 1 FreeMarker概述', 'Java Web扩展 Freemarker 2 FreeMarker的基本使用']\n"
     ]
    },
    {
     "name": "stderr",
     "output_type": "stream",
     "text": [
      "127.0.0.1 - - [07/Jan/2022 17:15:15] \"GET /imageCrawl HTTP/1.1\" 200 -\n"
     ]
    },
    {
     "name": "stdout",
     "output_type": "stream",
     "text": [
      "['15 Basic Concepts of the FreeMarker Template Engine', 'Apache Freemarker 템플릿 기본', 'Java Web扩展-Freemarker', 'Java Web扩展-Freemarker-1.FreeMarker概述', 'Java Web扩展-Freemarker-2.FreeMarker的基本使用', 'FreeMarker + Spring Boot', '32_8:FreeMarker|Spring Boot| View Technology| PostgreSQL| PostgreSQL |Client Side Installation', '32_7:FreeMarker|Spring Boot| View Technology| PostgreSQL| PostgreSQL |Spring profiles|GUI testing', 'Spring Boot FreeMarker 튜토리얼', '001 Spring FreeMarker', 'Apache FreeMarker', 'Spring Boot - Using FreeMarker Template Engine | Java Techie', '10 freemarker的使用方法', 'Java Web扩展-Freemarker-1.FreeMarker概述', '111 freemarker freemarker的基本语法', 'Free marker Template | Java Example | Free marker List Example', '네이버 쇼핑 바뀐 로직, 어떻게 대처해야하는지 풀버전 공개 (프리미엄등급 80억 연매출 대표가 직접 품)', 'OMR카드에 칠하지 말라는 부분을 칠하면 어떻게 될까?', '자바스크립트와 자바의 차이점을 알려줌: 변수편', '무료 플러그인 / 강력한 무료 컴프레서 MJUC jr Free Compressor / Plug-in & Hardware Tutorial #142', 'Freemarker: Как перестать писать рутинный код, Алексей Быков, Лаборатория Касперского', 'Liferay - FreeMarker', 'Liferay Application Display Templates', 'Liferay Themes Development in 6.2', '간단한 Freemarker/Alfresco 예제', 'Java Web扩展 Freemarker 1 FreeMarker概述', 'Spring Boot Freemarker: подключаем шаблонизатор Freemarker', 'Spring Boot + FreeMarker Hello World Example', 'Spring Boot + FreeMarker Example', 'Java Web扩展 Freemarker', 'Java Web扩展 Freemarker 1 FreeMarker概述', 'Java Web扩展 Freemarker 2 FreeMarker的基本使用']\n"
     ]
    },
    {
     "name": "stderr",
     "output_type": "stream",
     "text": [
      "127.0.0.1 - - [07/Jan/2022 17:17:00] \"GET /imageCrawl HTTP/1.1\" 200 -\n"
     ]
    },
    {
     "name": "stdout",
     "output_type": "stream",
     "text": [
      "['15 Basic Concepts of the FreeMarker Template Engine', 'Apache Freemarker 템플릿 기본', 'Java Web扩展-Freemarker', 'Java Web扩展-Freemarker-1.FreeMarker概述', 'Java Web扩展-Freemarker-2.FreeMarker的基本使用', 'FreeMarker + Spring Boot', '32_8:FreeMarker|Spring Boot| View Technology| PostgreSQL| PostgreSQL |Client Side Installation', '32_7:FreeMarker|Spring Boot| View Technology| PostgreSQL| PostgreSQL |Spring profiles|GUI testing', 'Spring Boot FreeMarker 튜토리얼', '001 Spring FreeMarker', 'Apache FreeMarker', 'Spring Boot - Using FreeMarker Template Engine | Java Techie', '10 freemarker的使用方法', 'Java Web扩展-Freemarker-1.FreeMarker概述', '111 freemarker freemarker的基本语法', 'Free marker Template | Java Example | Free marker List Example', '네이버 쇼핑 바뀐 로직, 어떻게 대처해야하는지 풀버전 공개 (프리미엄등급 80억 연매출 대표가 직접 품)', 'OMR카드에 칠하지 말라는 부분을 칠하면 어떻게 될까?', '자바스크립트와 자바의 차이점을 알려줌: 변수편', '무료 플러그인 / 강력한 무료 컴프레서 MJUC jr Free Compressor / Plug-in & Hardware Tutorial #142', 'Freemarker: Как перестать писать рутинный код, Алексей Быков, Лаборатория Касперского', 'Liferay - FreeMarker', 'Liferay Application Display Templates', 'Liferay Themes Development in 6.2', '간단한 Freemarker/Alfresco 예제', 'Java Web扩展 Freemarker 1 FreeMarker概述', 'Spring Boot Freemarker: подключаем шаблонизатор Freemarker', 'Spring Boot + FreeMarker Hello World Example', 'Spring Boot + FreeMarker Example', 'Java Web扩展 Freemarker', 'Java Web扩展 Freemarker 1 FreeMarker概述', 'Java Web扩展 Freemarker 2 FreeMarker的基本使用']\n"
     ]
    },
    {
     "name": "stderr",
     "output_type": "stream",
     "text": [
      "127.0.0.1 - - [07/Jan/2022 17:17:21] \"GET /imageCrawl HTTP/1.1\" 200 -\n"
     ]
    },
    {
     "name": "stdout",
     "output_type": "stream",
     "text": [
      "['15 Basic Concepts of the FreeMarker Template Engine', 'Apache Freemarker 템플릿 기본', 'Java Web扩展-Freemarker', 'Java Web扩展-Freemarker-1.FreeMarker概述', 'Java Web扩展-Freemarker-2.FreeMarker的基本使用', 'FreeMarker + Spring Boot', '32_8:FreeMarker|Spring Boot| View Technology| PostgreSQL| PostgreSQL |Client Side Installation', '32_7:FreeMarker|Spring Boot| View Technology| PostgreSQL| PostgreSQL |Spring profiles|GUI testing', 'Spring Boot FreeMarker 튜토리얼', '001 Spring FreeMarker', 'Apache FreeMarker', 'Spring Boot - Using FreeMarker Template Engine | Java Techie', '10 freemarker的使用方法', 'Java Web扩展-Freemarker-1.FreeMarker概述', '111 freemarker freemarker的基本语法', 'Free marker Template | Java Example | Free marker List Example', '네이버 쇼핑 바뀐 로직, 어떻게 대처해야하는지 풀버전 공개 (프리미엄등급 80억 연매출 대표가 직접 품)', '자바스크립트와 자바의 차이점을 알려줌: 변수편', 'OMR카드에 칠하지 말라는 부분을 칠하면 어떻게 될까?', '무료 플러그인 / 강력한 무료 컴프레서 MJUC jr Free Compressor / Plug-in & Hardware Tutorial #142', 'Freemarker: Как перестать писать рутинный код, Алексей Быков, Лаборатория Касперского', 'Liferay - FreeMarker', 'Liferay Application Display Templates', 'Liferay Themes Development in 6.2', 'Java Web扩展 Freemarker 1 FreeMarker概述', '간단한 Freemarker/Alfresco 예제', 'Spring Boot Freemarker: подключаем шаблонизатор Freemarker', 'Spring Boot + FreeMarker Hello World Example', 'Spring Boot + FreeMarker Example', 'Java Web扩展 Freemarker', 'Java Web扩展 Freemarker 1 FreeMarker概述', 'Java Web扩展 Freemarker 2 FreeMarker的基本使用']\n"
     ]
    },
    {
     "name": "stderr",
     "output_type": "stream",
     "text": [
      "127.0.0.1 - - [07/Jan/2022 17:24:17] \"GET /imageCrawl HTTP/1.1\" 200 -\n"
     ]
    },
    {
     "name": "stdout",
     "output_type": "stream",
     "text": [
      "['15 Basic Concepts of the FreeMarker Template Engine', 'Apache Freemarker 템플릿 기본', 'Java Web扩展-Freemarker', 'Java Web扩展-Freemarker-1.FreeMarker概述', 'Java Web扩展-Freemarker-2.FreeMarker的基本使用', 'FreeMarker + Spring Boot', '32_8:FreeMarker|Spring Boot| View Technology| PostgreSQL| PostgreSQL |Client Side Installation', '32_7:FreeMarker|Spring Boot| View Technology| PostgreSQL| PostgreSQL |Spring profiles|GUI testing', 'Spring Boot FreeMarker 튜토리얼', 'Apache FreeMarker', '001 Spring FreeMarker', '10 freemarker的使用方法', 'Spring Boot - Using FreeMarker Template Engine | Java Techie', 'Java Web扩展-Freemarker-1.FreeMarker概述', 'Free marker Template | Java Example | Free marker List Example', '111 freemarker freemarker的基本语法', '네이버 쇼핑 바뀐 로직, 어떻게 대처해야하는지 풀버전 공개 (프리미엄등급 80억 연매출 대표가 직접 품)', '자바스크립트와 자바의 차이점을 알려줌: 변수편', 'OMR카드에 칠하지 말라는 부분을 칠하면 어떻게 될까?', '무료 플러그인 / 강력한 무료 컴프레서 MJUC jr Free Compressor / Plug-in & Hardware Tutorial #142', 'Freemarker: Как перестать писать рутинный код, Алексей Быков, Лаборатория Касперского', 'Liferay - FreeMarker', 'Liferay Application Display Templates', 'Liferay Themes Development in 6.2', '간단한 Freemarker/Alfresco 예제', 'Java Web扩展 Freemarker', 'Java Web扩展 Freemarker 1 FreeMarker概述', 'Java Web扩展 Freemarker 2 FreeMarker的基本使用', 'Spring Boot Freemarker: подключаем шаблонизатор Freemarker', 'Spring Boot + FreeMarker Example', 'Spring Boot + FreeMarker Hello World Example', 'Веб-разработка на Java. Урок 7. FreeMarker Intro.']\n"
     ]
    },
    {
     "name": "stderr",
     "output_type": "stream",
     "text": [
      "127.0.0.1 - - [07/Jan/2022 17:25:23] \"GET /imageCrawl HTTP/1.1\" 200 -\n"
     ]
    },
    {
     "name": "stdout",
     "output_type": "stream",
     "text": [
      "['15 Basic Concepts of the FreeMarker Template Engine', 'Apache Freemarker 템플릿 기본', 'Java Web扩展-Freemarker', 'Java Web扩展-Freemarker-1.FreeMarker概述', 'Java Web扩展-Freemarker-2.FreeMarker的基本使用', 'FreeMarker + Spring Boot', '32_8:FreeMarker|Spring Boot| View Technology| PostgreSQL| PostgreSQL |Client Side Installation', '32_7:FreeMarker|Spring Boot| View Technology| PostgreSQL| PostgreSQL |Spring profiles|GUI testing', 'Spring Boot FreeMarker 튜토리얼', '001 Spring FreeMarker', 'Apache FreeMarker', 'Spring Boot - Using FreeMarker Template Engine | Java Techie', '10 freemarker的使用方法', 'Java Web扩展-Freemarker-1.FreeMarker概述', '111 freemarker freemarker的基本语法', 'Free marker Template | Java Example | Free marker List Example', '네이버 쇼핑 바뀐 로직, 어떻게 대처해야하는지 풀버전 공개 (프리미엄등급 80억 연매출 대표가 직접 품)', '자바스크립트와 자바의 차이점을 알려줌: 변수편', 'OMR카드에 칠하지 말라는 부분을 칠하면 어떻게 될까?', '무료 플러그인 / 강력한 무료 컴프레서 MJUC jr Free Compressor / Plug-in & Hardware Tutorial #142', 'Freemarker: Как перестать писать рутинный код, Алексей Быков, Лаборатория Касперского', 'Liferay - FreeMarker', 'Liferay Application Display Templates', 'Liferay Themes Development in 6.2', '간단한 Freemarker/Alfresco 예제', 'Java Web扩展 Freemarker 1 FreeMarker概述', 'Spring Boot Freemarker: подключаем шаблонизатор Freemarker', 'Spring Boot + FreeMarker Hello World Example', 'Spring Boot + FreeMarker Example', 'Java Web扩展 Freemarker', 'Java Web扩展 Freemarker 1 FreeMarker概述', 'Java Web扩展 Freemarker 2 FreeMarker的基本使用']\n"
     ]
    },
    {
     "name": "stderr",
     "output_type": "stream",
     "text": [
      "127.0.0.1 - - [07/Jan/2022 17:30:19] \"GET /imageCrawl HTTP/1.1\" 200 -\n"
     ]
    },
    {
     "name": "stdout",
     "output_type": "stream",
     "text": [
      "['15 Basic Concepts of the FreeMarker Template Engine', 'Apache Freemarker 템플릿 기본', 'Java Web扩展-Freemarker', 'Java Web扩展-Freemarker-1.FreeMarker概述', 'Java Web扩展-Freemarker-2.FreeMarker的基本使用', 'FreeMarker + Spring Boot', '32_8:FreeMarker|Spring Boot| View Technology| PostgreSQL| PostgreSQL |Client Side Installation', '32_7:FreeMarker|Spring Boot| View Technology| PostgreSQL| PostgreSQL |Spring profiles|GUI testing', 'Spring Boot FreeMarker 튜토리얼', 'Apache FreeMarker', '001 Spring FreeMarker', '10 freemarker的使用方法', 'Spring Boot - Using FreeMarker Template Engine | Java Techie', 'Java Web扩展-Freemarker-1.FreeMarker概述', 'Free marker Template | Java Example | Free marker List Example', '111 freemarker freemarker的基本语法', '네이버 쇼핑 바뀐 로직, 어떻게 대처해야하는지 풀버전 공개 (프리미엄등급 80억 연매출 대표가 직접 품)', '자바스크립트와 자바의 차이점을 알려줌: 변수편', 'OMR카드에 칠하지 말라는 부분을 칠하면 어떻게 될까?', '무료 플러그인 / 강력한 무료 컴프레서 MJUC jr Free Compressor / Plug-in & Hardware Tutorial #142', 'Freemarker: Как перестать писать рутинный код, Алексей Быков, Лаборатория Касперского', 'Liferay - FreeMarker', 'Liferay Application Display Templates', 'Liferay Themes Development in 6.2', '간단한 Freemarker/Alfresco 예제', 'Java Web扩展 Freemarker', 'Java Web扩展 Freemarker 1 FreeMarker概述', 'Java Web扩展 Freemarker 2 FreeMarker的基本使用', 'Spring Boot Freemarker: подключаем шаблонизатор Freemarker', 'Spring Boot + FreeMarker Example', 'Spring Boot + FreeMarker Hello World Example', 'Веб-разработка на Java. Урок 7. FreeMarker Intro.']\n"
     ]
    },
    {
     "name": "stderr",
     "output_type": "stream",
     "text": [
      "127.0.0.1 - - [07/Jan/2022 17:31:36] \"GET /imageCrawl HTTP/1.1\" 200 -\n"
     ]
    },
    {
     "name": "stdout",
     "output_type": "stream",
     "text": [
      "['15 Basic Concepts of the FreeMarker Template Engine', 'Apache Freemarker 템플릿 기본', 'Java Web扩展-Freemarker', 'Java Web扩展-Freemarker-1.FreeMarker概述', 'Java Web扩展-Freemarker-2.FreeMarker的基本使用', 'FreeMarker + Spring Boot', '32_8:FreeMarker|Spring Boot| View Technology| PostgreSQL| PostgreSQL |Client Side Installation', '32_7:FreeMarker|Spring Boot| View Technology| PostgreSQL| PostgreSQL |Spring profiles|GUI testing', 'Spring Boot FreeMarker 튜토리얼', '001 Spring FreeMarker', 'Apache FreeMarker', 'Spring Boot - Using FreeMarker Template Engine | Java Techie', '10 freemarker的使用方法', 'Java Web扩展-Freemarker-1.FreeMarker概述', '111 freemarker freemarker的基本语法', 'Free marker Template | Java Example | Free marker List Example', '네이버 쇼핑 바뀐 로직, 어떻게 대처해야하는지 풀버전 공개 (프리미엄등급 80억 연매출 대표가 직접 품)', '자바스크립트와 자바의 차이점을 알려줌: 변수편', 'OMR카드에 칠하지 말라는 부분을 칠하면 어떻게 될까?', '무료 플러그인 / 강력한 무료 컴프레서 MJUC jr Free Compressor / Plug-in & Hardware Tutorial #142', 'Freemarker: Как перестать писать рутинный код, Алексей Быков, Лаборатория Касперского', 'Liferay - FreeMarker', 'Liferay Application Display Templates', 'Liferay Themes Development in 6.2', '간단한 Freemarker/Alfresco 예제', 'Java Web扩展 Freemarker 1 FreeMarker概述', 'Spring Boot Freemarker: подключаем шаблонизатор Freemarker', 'Spring Boot + FreeMarker Hello World Example', 'Spring Boot + FreeMarker Example', 'Java Web扩展 Freemarker', 'Java Web扩展 Freemarker 1 FreeMarker概述', 'Java Web扩展 Freemarker 2 FreeMarker的基本使用']\n"
     ]
    },
    {
     "name": "stderr",
     "output_type": "stream",
     "text": [
      "127.0.0.1 - - [07/Jan/2022 17:35:08] \"GET /imageCrawl HTTP/1.1\" 200 -\n"
     ]
    },
    {
     "name": "stdout",
     "output_type": "stream",
     "text": [
      "['15 Basic Concepts of the FreeMarker Template Engine', 'Apache Freemarker 템플릿 기본', 'Java Web扩展-Freemarker', 'Java Web扩展-Freemarker-1.FreeMarker概述', 'Java Web扩展-Freemarker-2.FreeMarker的基本使用', 'FreeMarker + Spring Boot', '32_8:FreeMarker|Spring Boot| View Technology| PostgreSQL| PostgreSQL |Client Side Installation', '32_7:FreeMarker|Spring Boot| View Technology| PostgreSQL| PostgreSQL |Spring profiles|GUI testing', 'Spring Boot FreeMarker 튜토리얼', '001 Spring FreeMarker', 'Apache FreeMarker', 'Spring Boot - Using FreeMarker Template Engine | Java Techie', '10 freemarker的使用方法', 'Java Web扩展-Freemarker-1.FreeMarker概述', '111 freemarker freemarker的基本语法', 'Free marker Template | Java Example | Free marker List Example', '네이버 쇼핑 바뀐 로직, 어떻게 대처해야하는지 풀버전 공개 (프리미엄등급 80억 연매출 대표가 직접 품)', '자바스크립트와 자바의 차이점을 알려줌: 변수편', 'OMR카드에 칠하지 말라는 부분을 칠하면 어떻게 될까?', '무료 플러그인 / 강력한 무료 컴프레서 MJUC jr Free Compressor / Plug-in & Hardware Tutorial #142', 'Freemarker: Как перестать писать рутинный код, Алексей Быков, Лаборатория Касперского', 'Liferay - FreeMarker', 'Liferay Application Display Templates', 'Liferay Themes Development in 6.2', '간단한 Freemarker/Alfresco 예제', 'Java Web扩展 Freemarker 1 FreeMarker概述', 'Spring Boot Freemarker: подключаем шаблонизатор Freemarker', 'Spring Boot + FreeMarker Hello World Example', 'Spring Boot + FreeMarker Example', 'Java Web扩展 Freemarker', 'Java Web扩展 Freemarker 1 FreeMarker概述', 'Java Web扩展 Freemarker 2 FreeMarker的基本使用']\n"
     ]
    },
    {
     "name": "stderr",
     "output_type": "stream",
     "text": [
      "127.0.0.1 - - [07/Jan/2022 17:36:55] \"GET /imageCrawl HTTP/1.1\" 200 -\n"
     ]
    },
    {
     "name": "stdout",
     "output_type": "stream",
     "text": [
      "['15 Basic Concepts of the FreeMarker Template Engine', 'Apache Freemarker 템플릿 기본', 'Java Web扩展-Freemarker', 'Java Web扩展-Freemarker-1.FreeMarker概述', 'Java Web扩展-Freemarker-2.FreeMarker的基本使用', 'FreeMarker + Spring Boot', '32_8:FreeMarker|Spring Boot| View Technology| PostgreSQL| PostgreSQL |Client Side Installation', '32_7:FreeMarker|Spring Boot| View Technology| PostgreSQL| PostgreSQL |Spring profiles|GUI testing', 'Spring Boot FreeMarker 튜토리얼', 'Apache FreeMarker', '001 Spring FreeMarker', 'Spring Boot - Using FreeMarker Template Engine | Java Techie', '10 freemarker的使用方法', 'Java Web扩展-Freemarker-1.FreeMarker概述', '111 freemarker freemarker的基本语法', 'Free marker Template | Java Example | Free marker List Example', '네이버 쇼핑 바뀐 로직, 어떻게 대처해야하는지 풀버전 공개 (프리미엄등급 80억 연매출 대표가 직접 품)', '자바스크립트와 자바의 차이점을 알려줌: 변수편', 'OMR카드에 칠하지 말라는 부분을 칠하면 어떻게 될까?', '무료 플러그인 / 강력한 무료 컴프레서 MJUC jr Free Compressor / Plug-in & Hardware Tutorial #142', 'Freemarker: Как перестать писать рутинный код, Алексей Быков, Лаборатория Касперского', 'Liferay - FreeMarker', 'Liferay Application Display Templates', 'Liferay Themes Development in 6.2', '간단한 Freemarker/Alfresco 예제', 'Java Web扩展 Freemarker 1 FreeMarker概述', 'Spring Boot Freemarker: подключаем шаблонизатор Freemarker', 'Spring Boot + FreeMarker Hello World Example', 'Spring Boot + FreeMarker Example', 'Java Web扩展 Freemarker', 'Java Web扩展 Freemarker 1 FreeMarker概述', 'Java Web扩展 Freemarker 2 FreeMarker的基本使用']\n"
     ]
    },
    {
     "name": "stderr",
     "output_type": "stream",
     "text": [
      "127.0.0.1 - - [07/Jan/2022 17:38:27] \"GET /imageCrawl HTTP/1.1\" 200 -\n"
     ]
    },
    {
     "name": "stdout",
     "output_type": "stream",
     "text": [
      "['15 Basic Concepts of the FreeMarker Template Engine', 'Apache Freemarker 템플릿 기본', 'Java Web扩展-Freemarker', 'Java Web扩展-Freemarker-1.FreeMarker概述', 'Java Web扩展-Freemarker-2.FreeMarker的基本使用', 'FreeMarker + Spring Boot', '32_8:FreeMarker|Spring Boot| View Technology| PostgreSQL| PostgreSQL |Client Side Installation', '32_7:FreeMarker|Spring Boot| View Technology| PostgreSQL| PostgreSQL |Spring profiles|GUI testing', 'Spring Boot FreeMarker 튜토리얼', '001 Spring FreeMarker', 'Apache FreeMarker', 'Spring Boot - Using FreeMarker Template Engine | Java Techie', '10 freemarker的使用方法', 'Java Web扩展-Freemarker-1.FreeMarker概述', '111 freemarker freemarker的基本语法', 'Free marker Template | Java Example | Free marker List Example', '네이버 쇼핑 바뀐 로직, 어떻게 대처해야하는지 풀버전 공개 (프리미엄등급 80억 연매출 대표가 직접 품)', '자바스크립트와 자바의 차이점을 알려줌: 변수편', 'OMR카드에 칠하지 말라는 부분을 칠하면 어떻게 될까?', '무료 플러그인 / 강력한 무료 컴프레서 MJUC jr Free Compressor / Plug-in & Hardware Tutorial #142', 'Freemarker: Как перестать писать рутинный код, Алексей Быков, Лаборатория Касперского', 'Liferay - FreeMarker', 'Liferay Application Display Templates', 'Liferay Themes Development in 6.2', '간단한 Freemarker/Alfresco 예제', 'Java Web扩展 Freemarker 1 FreeMarker概述', 'Spring Boot Freemarker: подключаем шаблонизатор Freemarker', 'Spring Boot + FreeMarker Hello World Example', 'Spring Boot + FreeMarker Example', 'Java Web扩展 Freemarker', 'Java Web扩展 Freemarker 1 FreeMarker概述', 'Java Web扩展 Freemarker 2 FreeMarker的基本使用']\n"
     ]
    },
    {
     "name": "stderr",
     "output_type": "stream",
     "text": [
      "127.0.0.1 - - [07/Jan/2022 17:39:08] \"GET /imageCrawl HTTP/1.1\" 200 -\n"
     ]
    },
    {
     "name": "stdout",
     "output_type": "stream",
     "text": [
      "['15 Basic Concepts of the FreeMarker Template Engine', 'Apache Freemarker 템플릿 기본', 'Apache FreeMarker', 'Java Web扩展-Freemarker', 'Java Web扩展-Freemarker-1.FreeMarker概述', 'Java Web扩展-Freemarker-2.FreeMarker的基本使用', 'FreeMarker + Spring Boot', '32_8:FreeMarker|Spring Boot| View Technology| PostgreSQL| PostgreSQL |Client Side Installation', '32_7:FreeMarker|Spring Boot| View Technology| PostgreSQL| PostgreSQL |Spring profiles|GUI testing', 'Spring Boot FreeMarker 튜토리얼', '001 Spring FreeMarker', '10 freemarker的使用方法', 'Spring Boot - Using FreeMarker Template Engine | Java Techie', 'Java Web扩展-Freemarker-1.FreeMarker概述', 'Free marker Template | Java Example | Free marker List Example', '111 freemarker freemarker的基本语法', '네이버 쇼핑 바뀐 로직, 어떻게 대처해야하는지 풀버전 공개 (프리미엄등급 80억 연매출 대표가 직접 품)', '자바스크립트와 자바의 차이점을 알려줌: 변수편', 'OMR카드에 칠하지 말라는 부분을 칠하면 어떻게 될까?', '무료 플러그인 / 강력한 무료 컴프레서 MJUC jr Free Compressor / Plug-in & Hardware Tutorial #142', 'Freemarker: Как перестать писать рутинный код, Алексей Быков, Лаборатория Касперского', 'Liferay - FreeMarker', 'Liferay Application Display Templates', 'Liferay Themes Development in 6.2', '간단한 Freemarker/Alfresco 예제', 'Java Web扩展 Freemarker', 'Java Web扩展 Freemarker 1 FreeMarker概述', 'Java Web扩展 Freemarker 2 FreeMarker的基本使用', 'Spring Boot Freemarker: подключаем шаблонизатор Freemarker', 'Spring Boot + FreeMarker Example', 'Spring Boot + FreeMarker Hello World Example']\n"
     ]
    },
    {
     "name": "stderr",
     "output_type": "stream",
     "text": [
      "127.0.0.1 - - [07/Jan/2022 17:40:14] \"GET /imageCrawl HTTP/1.1\" 200 -\n"
     ]
    },
    {
     "name": "stdout",
     "output_type": "stream",
     "text": [
      "['15 Basic Concepts of the FreeMarker Template Engine', 'Apache Freemarker 템플릿 기본', 'Java Web扩展-Freemarker', 'Java Web扩展-Freemarker-1.FreeMarker概述', 'Java Web扩展-Freemarker-2.FreeMarker的基本使用', 'FreeMarker + Spring Boot', '32_8:FreeMarker|Spring Boot| View Technology| PostgreSQL| PostgreSQL |Client Side Installation', '32_7:FreeMarker|Spring Boot| View Technology| PostgreSQL| PostgreSQL |Spring profiles|GUI testing', 'Apache FreeMarker', 'Spring Boot FreeMarker 튜토리얼', '001 Spring FreeMarker', 'Spring Boot - Using FreeMarker Template Engine | Java Techie', '10 freemarker的使用方法', 'Java Web扩展-Freemarker-1.FreeMarker概述', '111 freemarker freemarker的基本语法', 'Free marker Template | Java Example | Free marker List Example', '자바스크립트와 자바의 차이점을 알려줌: 변수편', '네이버 쇼핑 바뀐 로직, 어떻게 대처해야하는지 풀버전 공개 (프리미엄등급 80억 연매출 대표가 직접 품)', 'OMR카드에 칠하지 말라는 부분을 칠하면 어떻게 될까?', '필수 Free Plugin  무료 플러그인 3가지 OTT CamelCrusher Vinyl', 'Freemarker: Как перестать писать рутинный код, Алексей Быков, Лаборатория Касперского', 'Liferay - FreeMarker', 'Liferay Application Display Templates', 'Liferay Themes Development in 6.2', '간단한 Freemarker/Alfresco 예제', 'Java Web扩展 Freemarker 1 FreeMarker概述', 'Spring Boot Freemarker: подключаем шаблонизатор Freemarker', 'Spring Boot + FreeMarker Hello World Example', 'Spring Boot + FreeMarker Example', 'Java Web扩展 Freemarker', 'Java Web扩展 Freemarker 1 FreeMarker概述', 'Java Web扩展 Freemarker 2 FreeMarker的基本使用']\n"
     ]
    },
    {
     "name": "stderr",
     "output_type": "stream",
     "text": [
      "127.0.0.1 - - [07/Jan/2022 17:42:02] \"GET /imageCrawl HTTP/1.1\" 200 -\n"
     ]
    },
    {
     "name": "stdout",
     "output_type": "stream",
     "text": [
      "['15 Basic Concepts of the FreeMarker Template Engine', 'Apache Freemarker 템플릿 기본', 'Java Web扩展-Freemarker', 'Java Web扩展-Freemarker-1.FreeMarker概述', 'Java Web扩展-Freemarker-2.FreeMarker的基本使用', 'FreeMarker + Spring Boot', '32_8:FreeMarker|Spring Boot| View Technology| PostgreSQL| PostgreSQL |Client Side Installation', '32_7:FreeMarker|Spring Boot| View Technology| PostgreSQL| PostgreSQL |Spring profiles|GUI testing', 'Spring Boot FreeMarker 튜토리얼', 'Apache FreeMarker', '001 Spring FreeMarker', 'Spring Boot - Using FreeMarker Template Engine | Java Techie', '10 freemarker的使用方法', 'Java Web扩展-Freemarker-1.FreeMarker概述', '111 freemarker freemarker的基本语法', 'Free marker Template | Java Example | Free marker List Example', '네이버 쇼핑 바뀐 로직, 어떻게 대처해야하는지 풀버전 공개 (프리미엄등급 80억 연매출 대표가 직접 품)', '자바스크립트와 자바의 차이점을 알려줌: 변수편', 'OMR카드에 칠하지 말라는 부분을 칠하면 어떻게 될까?', '무료 플러그인 / 강력한 무료 컴프레서 MJUC jr Free Compressor / Plug-in & Hardware Tutorial #142', 'Freemarker: Как перестать писать рутинный код, Алексей Быков, Лаборатория Касперского', 'Liferay - FreeMarker', 'Liferay Application Display Templates', 'Liferay Themes Development in 6.2', '간단한 Freemarker/Alfresco 예제', 'Java Web扩展 Freemarker 1 FreeMarker概述', 'Spring Boot Freemarker: подключаем шаблонизатор Freemarker', 'Spring Boot + FreeMarker Hello World Example', 'Spring Boot + FreeMarker Example', 'Java Web扩展 Freemarker', 'Java Web扩展 Freemarker 1 FreeMarker概述', 'Java Web扩展 Freemarker 2 FreeMarker的基本使用']\n"
     ]
    },
    {
     "name": "stderr",
     "output_type": "stream",
     "text": [
      "127.0.0.1 - - [07/Jan/2022 17:42:31] \"GET /imageCrawl HTTP/1.1\" 200 -\n"
     ]
    },
    {
     "name": "stdout",
     "output_type": "stream",
     "text": [
      "['15 Basic Concepts of the FreeMarker Template Engine', 'Apache Freemarker 템플릿 기본', 'Java Web扩展-Freemarker', 'Java Web扩展-Freemarker-1.FreeMarker概述', 'Java Web扩展-Freemarker-2.FreeMarker的基本使用', 'FreeMarker + Spring Boot', '32_8:FreeMarker|Spring Boot| View Technology| PostgreSQL| PostgreSQL |Client Side Installation', '32_7:FreeMarker|Spring Boot| View Technology| PostgreSQL| PostgreSQL |Spring profiles|GUI testing', 'Spring Boot FreeMarker 튜토리얼', 'Apache FreeMarker', '001 Spring FreeMarker', 'Spring Boot - Using FreeMarker Template Engine | Java Techie', '10 freemarker的使用方法', 'Java Web扩展-Freemarker-1.FreeMarker概述', '111 freemarker freemarker的基本语法', 'Free marker Template | Java Example | Free marker List Example', '네이버 쇼핑 바뀐 로직, 어떻게 대처해야하는지 풀버전 공개 (프리미엄등급 80억 연매출 대표가 직접 품)', '자바스크립트와 자바의 차이점을 알려줌: 변수편', 'OMR카드에 칠하지 말라는 부분을 칠하면 어떻게 될까?', '무료 플러그인 / 강력한 무료 컴프레서 MJUC jr Free Compressor / Plug-in & Hardware Tutorial #142', 'Freemarker: Как перестать писать рутинный код, Алексей Быков, Лаборатория Касперского', 'Liferay - FreeMarker', 'Liferay Application Display Templates', 'Liferay Themes Development in 6.2', '간단한 Freemarker/Alfresco 예제', 'Java Web扩展 Freemarker 1 FreeMarker概述', 'Spring Boot Freemarker: подключаем шаблонизатор Freemarker', 'Spring Boot + FreeMarker Hello World Example', 'Spring Boot + FreeMarker Example', 'Java Web扩展 Freemarker', 'Java Web扩展 Freemarker 1 FreeMarker概述', 'Java Web扩展 Freemarker 2 FreeMarker的基本使用']\n"
     ]
    },
    {
     "name": "stderr",
     "output_type": "stream",
     "text": [
      "127.0.0.1 - - [07/Jan/2022 17:44:32] \"GET /imageCrawl HTTP/1.1\" 200 -\n"
     ]
    },
    {
     "name": "stdout",
     "output_type": "stream",
     "text": [
      "['15 Basic Concepts of the FreeMarker Template Engine', 'Apache Freemarker 템플릿 기본', 'Apache FreeMarker', 'Java Web扩展-Freemarker', 'Java Web扩展-Freemarker-1.FreeMarker概述', 'Java Web扩展-Freemarker-2.FreeMarker的基本使用', 'FreeMarker + Spring Boot', '32_8:FreeMarker|Spring Boot| View Technology| PostgreSQL| PostgreSQL |Client Side Installation', '32_7:FreeMarker|Spring Boot| View Technology| PostgreSQL| PostgreSQL |Spring profiles|GUI testing', 'Spring Boot FreeMarker 튜토리얼', '001 Spring FreeMarker', '10 freemarker的使用方法', 'Spring Boot - Using FreeMarker Template Engine | Java Techie', 'Java Web扩展-Freemarker-1.FreeMarker概述', 'Free marker Template | Java Example | Free marker List Example', '111 freemarker freemarker的基本语法', '네이버 쇼핑 바뀐 로직, 어떻게 대처해야하는지 풀버전 공개 (프리미엄등급 80억 연매출 대표가 직접 품)', '자바스크립트와 자바의 차이점을 알려줌: 변수편', 'OMR카드에 칠하지 말라는 부분을 칠하면 어떻게 될까?', '무료 플러그인 / 강력한 무료 컴프레서 MJUC jr Free Compressor / Plug-in & Hardware Tutorial #142', 'Freemarker: Как перестать писать рутинный код, Алексей Быков, Лаборатория Касперского', 'Liferay - FreeMarker', 'Liferay Application Display Templates', 'Liferay Themes Development in 6.2', '간단한 Freemarker/Alfresco 예제', 'Java Web扩展 Freemarker', 'Java Web扩展 Freemarker 1 FreeMarker概述', 'Java Web扩展 Freemarker 2 FreeMarker的基本使用', 'Spring Boot Freemarker: подключаем шаблонизатор Freemarker', 'Spring Boot + FreeMarker Example', 'Spring Boot + FreeMarker Hello World Example', 'Веб-разработка на Java. Урок 7. FreeMarker Intro.']\n"
     ]
    },
    {
     "name": "stderr",
     "output_type": "stream",
     "text": [
      "127.0.0.1 - - [07/Jan/2022 17:44:54] \"GET /imageCrawl HTTP/1.1\" 200 -\n"
     ]
    }
   ],
   "source": [
    "app = Flask(__name__)\n",
    "CORS(app)\n",
    "\n",
    "@app.route('/imageCrawl', methods = ['GET', 'POST'])\n",
    "def imageCrawl():\n",
    "    \n",
    "#     params = json.loads(request.get_data(), encoding='utf-8')\n",
    "#     print(\"params: \", params)\n",
    "    \n",
    "    url = \"https://www.youtube.com/results?search_query=\"\n",
    "#     urI = \"https://www.google.com/search?q=springboot\"\n",
    "    \n",
    "#     tail = \"&source=lnms&tbm=isch&sa=X&ved=2ahUKEwiDtOXCrpz1AhXZc94KHcqFC8MQ_AUoAnoECAIQBA&biw=1920&bih=969&dpr=1\"\n",
    "    \n",
    "    options = webdriver.ChromeOptions()\n",
    "    options.add_argument('--headless')\n",
    "    options.add_argument('--window-size=1024,768')\n",
    "    options.add_argument('--disable-gpu')\n",
    "\n",
    "    driver = webdriver.Chrome(r\"C:\\Users/User/Downloads/WORKSPACE/TECH/Freemarker/PythonCrawling/chromedriver.exe\", options = options)\n",
    "    \n",
    "#     search_url = url + params['search_keyword']\n",
    "    search_url = url + \"Freemarker\"\n",
    "    driver.get(url = search_url)\n",
    "\n",
    "    allTitles = driver.find_elements_by_id(\"video-title\")\n",
    "    titles = []\n",
    "\n",
    "    for item in allTitles:\n",
    "        if (item != ''):\n",
    "            titles.append(item.get_attribute('title'))\n",
    "\n",
    "    print(titles)\n",
    "    # hidden일지라도 리소스가 사용되므로 모든 작업이 완료되었으면 종료함\n",
    "    driver.close()\n",
    "    \n",
    "    return jsonify(titles)\n",
    "    \n",
    "if __name__ == \"__main__\":\n",
    "    app.run()"
   ]
  },
  {
   "cell_type": "code",
   "execution_count": null,
   "id": "a7be5669",
   "metadata": {},
   "outputs": [],
   "source": []
  },
  {
   "cell_type": "code",
   "execution_count": null,
   "id": "780ae9df",
   "metadata": {},
   "outputs": [],
   "source": []
  }
 ],
 "metadata": {
  "kernelspec": {
   "display_name": "Python 3 (ipykernel)",
   "language": "python",
   "name": "python3"
  },
  "language_info": {
   "codemirror_mode": {
    "name": "ipython",
    "version": 3
   },
   "file_extension": ".py",
   "mimetype": "text/x-python",
   "name": "python",
   "nbconvert_exporter": "python",
   "pygments_lexer": "ipython3",
   "version": "3.9.7"
  }
 },
 "nbformat": 4,
 "nbformat_minor": 5
}
