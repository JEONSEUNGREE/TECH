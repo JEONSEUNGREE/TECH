{
 "cells": [
  {
   "cell_type": "code",
   "execution_count": 30,
   "id": "ff7eee00",
   "metadata": {},
   "outputs": [],
   "source": [
    "from selenium import webdriver"
   ]
  },
  {
   "cell_type": "code",
   "execution_count": 31,
   "id": "c4232987",
   "metadata": {},
   "outputs": [],
   "source": [
    "# https://sites.google.com/a/chromium.org/chromedriver/home\n",
    "# Latest stable release 다운로드\n",
    "# 각각의 운영체제에 맞게 압축 해제한다.\n",
    "# 윈도우의 경우엔 c 드라이브 밑에 배치한다.\n",
    "# 리눅스나 유닉스 계열은 원하는 위치에 놓고 해당 경로가 어디인지 파악해둔다."
   ]
  },
  {
   "cell_type": "code",
   "execution_count": 32,
   "id": "334929f6",
   "metadata": {},
   "outputs": [],
   "source": [
    "url = \"https://www.youtube.com/\"\n",
    "\n",
    "# /home/test/proj/crawl/chromedriver\n",
    "driver = webdriver.Chrome(\"/home/ree/Downloads/chromedriver\")\n",
    "driver.get(url = url)"
   ]
  },
  {
   "cell_type": "code",
   "execution_count": 33,
   "id": "fb8b76d9",
   "metadata": {},
   "outputs": [
    {
     "name": "stdout",
     "output_type": "stream",
     "text": [
      "https://www.youtube.com/\n",
      "YouTube\n"
     ]
    }
   ],
   "source": [
    "print(driver.current_url)\n",
    "print(driver.title)"
   ]
  },
  {
   "cell_type": "code",
   "execution_count": 16,
   "id": "cbb2f911",
   "metadata": {},
   "outputs": [
    {
     "ename": "WebDriverException",
     "evalue": "Message: chrome not reachable\n  (Session info: chrome=94.0.4606.81)\n",
     "output_type": "error",
     "traceback": [
      "\u001b[0;31m---------------------------------------------------------------------------\u001b[0m",
      "\u001b[0;31mWebDriverException\u001b[0m                        Traceback (most recent call last)",
      "\u001b[0;32m<ipython-input-16-6598c31c653a>\u001b[0m in \u001b[0;36m<module>\u001b[0;34m\u001b[0m\n\u001b[1;32m      2\u001b[0m \u001b[0;32mimport\u001b[0m \u001b[0mtime\u001b[0m\u001b[0;34m\u001b[0m\u001b[0;34m\u001b[0m\u001b[0m\n\u001b[1;32m      3\u001b[0m \u001b[0;34m\u001b[0m\u001b[0m\n\u001b[0;32m----> 4\u001b[0;31m allContents = driver.find_elements_by_css_selector(\n\u001b[0m\u001b[1;32m      5\u001b[0m     \u001b[0;34m\"#contents > ytd-rich-item-renderer > div > ytd-rich-grid-media > div > ytd-thumbnail > a\"\u001b[0m\u001b[0;34m\u001b[0m\u001b[0;34m\u001b[0m\u001b[0m\n\u001b[1;32m      6\u001b[0m )\n",
      "\u001b[0;32m~/anaconda3/lib/python3.8/site-packages/selenium/webdriver/remote/webdriver.py\u001b[0m in \u001b[0;36mfind_elements_by_css_selector\u001b[0;34m(self, css_selector)\u001b[0m\n\u001b[1;32m    612\u001b[0m             \u001b[0melements\u001b[0m \u001b[0;34m=\u001b[0m \u001b[0mdriver\u001b[0m\u001b[0;34m.\u001b[0m\u001b[0mfind_elements_by_css_selector\u001b[0m\u001b[0;34m(\u001b[0m\u001b[0;34m'.foo'\u001b[0m\u001b[0;34m)\u001b[0m\u001b[0;34m\u001b[0m\u001b[0;34m\u001b[0m\u001b[0m\n\u001b[1;32m    613\u001b[0m         \"\"\"\n\u001b[0;32m--> 614\u001b[0;31m         \u001b[0;32mreturn\u001b[0m \u001b[0mself\u001b[0m\u001b[0;34m.\u001b[0m\u001b[0mfind_elements\u001b[0m\u001b[0;34m(\u001b[0m\u001b[0mby\u001b[0m\u001b[0;34m=\u001b[0m\u001b[0mBy\u001b[0m\u001b[0;34m.\u001b[0m\u001b[0mCSS_SELECTOR\u001b[0m\u001b[0;34m,\u001b[0m \u001b[0mvalue\u001b[0m\u001b[0;34m=\u001b[0m\u001b[0mcss_selector\u001b[0m\u001b[0;34m)\u001b[0m\u001b[0;34m\u001b[0m\u001b[0;34m\u001b[0m\u001b[0m\n\u001b[0m\u001b[1;32m    615\u001b[0m \u001b[0;34m\u001b[0m\u001b[0m\n\u001b[1;32m    616\u001b[0m     \u001b[0;32mdef\u001b[0m \u001b[0mexecute_script\u001b[0m\u001b[0;34m(\u001b[0m\u001b[0mself\u001b[0m\u001b[0;34m,\u001b[0m \u001b[0mscript\u001b[0m\u001b[0;34m,\u001b[0m \u001b[0;34m*\u001b[0m\u001b[0margs\u001b[0m\u001b[0;34m)\u001b[0m\u001b[0;34m:\u001b[0m\u001b[0;34m\u001b[0m\u001b[0;34m\u001b[0m\u001b[0m\n",
      "\u001b[0;32m~/anaconda3/lib/python3.8/site-packages/selenium/webdriver/remote/webdriver.py\u001b[0m in \u001b[0;36mfind_elements\u001b[0;34m(self, by, value)\u001b[0m\n\u001b[1;32m   1003\u001b[0m         \u001b[0;31m# Return empty list if driver returns null\u001b[0m\u001b[0;34m\u001b[0m\u001b[0;34m\u001b[0m\u001b[0;34m\u001b[0m\u001b[0m\n\u001b[1;32m   1004\u001b[0m         \u001b[0;31m# See https://github.com/SeleniumHQ/selenium/issues/4555\u001b[0m\u001b[0;34m\u001b[0m\u001b[0;34m\u001b[0m\u001b[0;34m\u001b[0m\u001b[0m\n\u001b[0;32m-> 1005\u001b[0;31m         return self.execute(Command.FIND_ELEMENTS, {\n\u001b[0m\u001b[1;32m   1006\u001b[0m             \u001b[0;34m'using'\u001b[0m\u001b[0;34m:\u001b[0m \u001b[0mby\u001b[0m\u001b[0;34m,\u001b[0m\u001b[0;34m\u001b[0m\u001b[0;34m\u001b[0m\u001b[0m\n\u001b[1;32m   1007\u001b[0m             'value': value})['value'] or []\n",
      "\u001b[0;32m~/anaconda3/lib/python3.8/site-packages/selenium/webdriver/remote/webdriver.py\u001b[0m in \u001b[0;36mexecute\u001b[0;34m(self, driver_command, params)\u001b[0m\n\u001b[1;32m    319\u001b[0m         \u001b[0mresponse\u001b[0m \u001b[0;34m=\u001b[0m \u001b[0mself\u001b[0m\u001b[0;34m.\u001b[0m\u001b[0mcommand_executor\u001b[0m\u001b[0;34m.\u001b[0m\u001b[0mexecute\u001b[0m\u001b[0;34m(\u001b[0m\u001b[0mdriver_command\u001b[0m\u001b[0;34m,\u001b[0m \u001b[0mparams\u001b[0m\u001b[0;34m)\u001b[0m\u001b[0;34m\u001b[0m\u001b[0;34m\u001b[0m\u001b[0m\n\u001b[1;32m    320\u001b[0m         \u001b[0;32mif\u001b[0m \u001b[0mresponse\u001b[0m\u001b[0;34m:\u001b[0m\u001b[0;34m\u001b[0m\u001b[0;34m\u001b[0m\u001b[0m\n\u001b[0;32m--> 321\u001b[0;31m             \u001b[0mself\u001b[0m\u001b[0;34m.\u001b[0m\u001b[0merror_handler\u001b[0m\u001b[0;34m.\u001b[0m\u001b[0mcheck_response\u001b[0m\u001b[0;34m(\u001b[0m\u001b[0mresponse\u001b[0m\u001b[0;34m)\u001b[0m\u001b[0;34m\u001b[0m\u001b[0;34m\u001b[0m\u001b[0m\n\u001b[0m\u001b[1;32m    322\u001b[0m             response['value'] = self._unwrap_value(\n\u001b[1;32m    323\u001b[0m                 response.get('value', None))\n",
      "\u001b[0;32m~/anaconda3/lib/python3.8/site-packages/selenium/webdriver/remote/errorhandler.py\u001b[0m in \u001b[0;36mcheck_response\u001b[0;34m(self, response)\u001b[0m\n\u001b[1;32m    240\u001b[0m                 \u001b[0malert_text\u001b[0m \u001b[0;34m=\u001b[0m \u001b[0mvalue\u001b[0m\u001b[0;34m[\u001b[0m\u001b[0;34m'alert'\u001b[0m\u001b[0;34m]\u001b[0m\u001b[0;34m.\u001b[0m\u001b[0mget\u001b[0m\u001b[0;34m(\u001b[0m\u001b[0;34m'text'\u001b[0m\u001b[0;34m)\u001b[0m\u001b[0;34m\u001b[0m\u001b[0;34m\u001b[0m\u001b[0m\n\u001b[1;32m    241\u001b[0m             \u001b[0;32mraise\u001b[0m \u001b[0mexception_class\u001b[0m\u001b[0;34m(\u001b[0m\u001b[0mmessage\u001b[0m\u001b[0;34m,\u001b[0m \u001b[0mscreen\u001b[0m\u001b[0;34m,\u001b[0m \u001b[0mstacktrace\u001b[0m\u001b[0;34m,\u001b[0m \u001b[0malert_text\u001b[0m\u001b[0;34m)\u001b[0m\u001b[0;34m\u001b[0m\u001b[0;34m\u001b[0m\u001b[0m\n\u001b[0;32m--> 242\u001b[0;31m         \u001b[0;32mraise\u001b[0m \u001b[0mexception_class\u001b[0m\u001b[0;34m(\u001b[0m\u001b[0mmessage\u001b[0m\u001b[0;34m,\u001b[0m \u001b[0mscreen\u001b[0m\u001b[0;34m,\u001b[0m \u001b[0mstacktrace\u001b[0m\u001b[0;34m)\u001b[0m\u001b[0;34m\u001b[0m\u001b[0;34m\u001b[0m\u001b[0m\n\u001b[0m\u001b[1;32m    243\u001b[0m \u001b[0;34m\u001b[0m\u001b[0m\n\u001b[1;32m    244\u001b[0m     \u001b[0;32mdef\u001b[0m \u001b[0m_value_or_default\u001b[0m\u001b[0;34m(\u001b[0m\u001b[0mself\u001b[0m\u001b[0;34m,\u001b[0m \u001b[0mobj\u001b[0m\u001b[0;34m,\u001b[0m \u001b[0mkey\u001b[0m\u001b[0;34m,\u001b[0m \u001b[0mdefault\u001b[0m\u001b[0;34m)\u001b[0m\u001b[0;34m:\u001b[0m\u001b[0;34m\u001b[0m\u001b[0;34m\u001b[0m\u001b[0m\n",
      "\u001b[0;31mWebDriverException\u001b[0m: Message: chrome not reachable\n  (Session info: chrome=94.0.4606.81)\n"
     ]
    }
   ],
   "source": [
    "# 광고 없다는 전제하에 30초마다 넘기기\n",
    "import time\n",
    "\n",
    "allContents = driver.find_elements_by_css_selector(\n",
    "    \"#contents > ytd-rich-item-renderer > div > ytd-rich-grid-media > div > ytd-thumbnail > a\"\n",
    ")\n",
    "#print(allContents)\n",
    "\n",
    "for item in allContents:\n",
    "    item.click()\n",
    "    time.sleep(30)\n",
    "    driver.back()"
   ]
  },
  {
   "cell_type": "code",
   "execution_count": 21,
   "id": "65ecfdc2",
   "metadata": {},
   "outputs": [
    {
     "name": "stdout",
     "output_type": "stream",
     "text": [
      "['https://www.youtube.com/watch?v=XWbHuYgE7Ek', 'https://www.youtube.com/watch?v=6q4DSKFn_k8', 'https://www.youtube.com/watch?v=N5crYlr0wbM', 'https://www.youtube.com/watch?v=EjzwNy4UwJo', 'https://www.youtube.com/watch?v=rQS0vSDjYlY', 'https://www.youtube.com/watch?v=XQLmFuqVri0', 'https://www.youtube.com/watch?v=moWz-iJt21A', 'https://www.youtube.com/watch?v=qo9Ri1qPInM', 'https://www.youtube.com/watch?v=KsVC_QQPg60', 'https://www.youtube.com/watch?v=2VMpUb3_DmA', 'https://www.youtube.com/watch?v=SyDBXuGs7as', 'https://www.youtube.com/watch?v=SiDbWgrSCk4', 'https://www.youtube.com/watch?v=YXWu-18u5bE', 'https://www.youtube.com/watch?v=kwxGO4HnFM8', 'https://www.youtube.com/watch?v=NIZGjl7fqns', 'https://www.youtube.com/watch?v=ilwXwzva0EY', 'https://www.youtube.com/watch?v=ySycKqADmaA', 'https://www.youtube.com/watch?v=vbWxiRsUsbk', 'https://www.youtube.com/watch?v=XTkD4VRGMIQ', 'https://www.youtube.com/watch?v=cEItmb_a20M', 'https://www.youtube.com/watch?v=q-dm7jcWCts', 'https://www.youtube.com/watch?v=V6M-waciScA', 'https://www.youtube.com/watch?v=MpEguXeAvjM', 'https://www.youtube.com/watch?v=Ot9pn5Vsa0E', 'https://www.youtube.com/watch?v=SMemB8qejtk', 'https://www.youtube.com/watch?v=GiWD30T_7H0', 'https://www.youtube.com/watch?v=Nh27WsNdymo', 'https://www.youtube.com/watch?v=uqtA_MEbYls', 'https://www.youtube.com/watch?v=yXz47iRuD0Y', 'https://www.youtube.com/watch?v=IAR2sYyMuiE', 'https://www.youtube.com/watch?v=FEXSXSA64Ko', 'https://www.youtube.com/watch?v=Dx5qFachd3A', 'https://www.youtube.com/watch?v=1IVSXFxjcT4']\n"
     ]
    }
   ],
   "source": [
    " # URL 확보\n",
    "allContents = driver.find_elements_by_css_selector(\n",
    "    \"#contents > ytd-rich-item-renderer > div > ytd-rich-grid-media > div > ytd-thumbnail > a\"\n",
    ")\n",
    "\n",
    "hrefURL = []\n",
    "\n",
    "for item in allContents:\n",
    "    if (item != ''):\n",
    "        hrefURL.append(item.get_attribute('href'))\n",
    "        \n",
    "print(hrefURL)\n"
   ]
  },
  {
   "cell_type": "code",
   "execution_count": 22,
   "id": "f7cabb9c",
   "metadata": {},
   "outputs": [],
   "source": [
    "driver.close()"
   ]
  },
  {
   "cell_type": "code",
   "execution_count": 34,
   "id": "7fdbd139",
   "metadata": {},
   "outputs": [
    {
     "name": "stdout",
     "output_type": "stream",
     "text": [
      "[None, None, None, '2021년 하반기 어떤 스마트폰이 나올까? 하반기 스마트폰 기대작 BEST 5 미리보기! by 인스펙팅룸 InspectingRoom 3 months ago 10 minutes, 27 seconds 262,827 views', None, None, None, None, None, '역대급 스마트폰들의 향연! 2021년 스마트폰 기대작 TOP 6 미리보기! by 인스펙팅룸 InspectingRoom 9 months ago 11 minutes, 35 seconds 351,102 views', None, None, None, None, None, '10월초(1~10일) 구입 추천 휴대폰입니다. by 휴대폰 지식인 1 week ago 5 minutes, 43 seconds 12,853 views', None, None, None, None, None, '완전 새로운 삼성 갤럭시 3종 / 슬라이더블 폰, S-폴더블, 17인치 폴더블 + UPC by B-NOTE 비노트 cause I am 4 months ago 4 minutes, 20 seconds 663,489 views', None, None, None, None, None, '노트20보다 더 좋은기능 있는데 80만원 싸다!? 보급형 스마트폰 전쟁. 갤럭시 A32 사용기! by ITSub잇섭 6 months ago 10 minutes, 12 seconds 1,155,174 views', None, None, None, None, None, '갤럭시S21 VS 아이폰12 장단점 비교 나에게 맞는 폰은? by To Much IT 8 months ago 7 minutes, 14 seconds 221,501 views', None, None, None, None, None, '위아래로 접히는 갤럭시Z플립 진짜로 샀습니다! 좋은지 나쁜지 사용해보자! - 허팝(Galaxy Z Filp) by 허팝Heopop 1 year ago 10 minutes, 16 seconds 2,468,858 views', None, None, None, None, None, '2021년 스마트폰/태블릿 사기 전 꼭 봐야하는 영상! 올해 나올 신제품 출시 예정일 총정리. 아무 때나 사지 마세요 by ITSub잇섭 7 months ago 11 minutes, 58 seconds 589,252 views', None, None, None, None, None, 'Real Galaxy S21+ Review After Using It for Long Time & Case Recommendation! by 주연 ZUYONI 6 months ago 17 minutes 598,007 views', None, None, None, None, None, '확 트였다!! 갤럭시 Z 폴드2 개봉기 [4K] by UNDERkg 1 year ago 20 minutes 993,744 views', None, None, None, None, None, '9월초(1~10일) 구입 추천 휴대폰입니다. by 휴대폰 지식인 1 month ago 6 minutes, 3 seconds 21,988 views', None, None, None, None, None, '엄청 예쁜데.. 쉽게 추천 못 하는 이유? 찐으로 3주 써본 삼성 갤럭시 Z 플립 사용기! by ITSub잇섭 1 year ago 14 minutes, 9 seconds 2,541,275 views', None, None, None, None, None, None, None, '휴대폰 싸게 사는 법(휴대폰 성지 갤럭시S21 0원 / 판매점 갤럭시S21 30만원) by 휴대폰 지식인 3 months ago 6 minutes, 2 seconds 48,980 views', None, None, None, None, None, '야호~! 마이린 드디어 핸드폰 바꿨어요 (최고스펙 최강 게이밍폰 블랙샤크2 개봉기) | 마이린 TV by 마이린 TV 2 years ago 11 minutes, 4 seconds 813,716 views', None, None, None, None, None, 'S22 출시전인데 벌써 S21 재고 소진을 한다고...(재고 소진 정책 가동) by 휴대폰 지식인 4 days ago 2 minutes, 39 seconds 8,490 views', None, None, None, None, None, \"삼성의 진짜 아이폰 SE 대항마?! 50만원대 '갤럭시 A51 5G' 언빡싱&살펴보기! by ITSub잇섭 1 year ago 13 minutes, 35 seconds 1,469,823 views\", None, None, None, None, None, '+6 more', None, '세상에서 제일 비싼 600만원짜리 스마트폰을 직접 써봤습니다! [갤럭시 폴드2 톰브라운] by 공대생 변승주 DS 1 year ago 10 minutes, 58 seconds 1,217,016 views', None, None, None, None, None, None, None, None, None, None]\n"
     ]
    }
   ],
   "source": [
    "url = \"https://www.youtube.com/results?search_query=\"\n",
    "\n",
    "# /home/test/proj/crawl/chromedriver\n",
    "driver = webdriver.Chrome(\"/home/ree/Downloads/chromedriver\")\n",
    "\n",
    "text = '최신폰'\n",
    "\n",
    "search_url = url + text\n",
    "driver.get(url = search_url)\n",
    "\n",
    "allTitles = driver.find_elements_by_css_selector(\n",
    "    \"yt-formatted-string\"\n",
    ")\n",
    "#print(allTitles)\n",
    "\n",
    "titles = []\n",
    "\n",
    "for item in allTitles:\n",
    "    if (item != ''):\n",
    "        titles.append(item.get_attribute('aria-label'))\n",
    "        \n",
    "print(titles)"
   ]
  },
  {
   "cell_type": "code",
   "execution_count": null,
   "id": "95496cec",
   "metadata": {},
   "outputs": [],
   "source": [
    "url = \"https://www.youtube.com/results?search_query=\"\n",
    "\n",
    "# /home/test/proj/crawl/chromedriver\n",
    "driver = webdriver.Chrome(r\"C:\\chromedriver.exe\")\n",
    "\n",
    "text = '최신폰'\n",
    "\n",
    "search_url = url + text\n",
    "driver.get(url = search_url)\n",
    "\n",
    "allTitles = driver.find_elements_by_id(\n",
    "    \"video-title\"\n",
    ")\n",
    "#print(allTitles)\n",
    "\n",
    "titles = []\n",
    "\n",
    "for item in allTitles:\n",
    "    if (item != ''):\n",
    "        titles.append(item.get_attribute('title'))\n",
    "        \n",
    "print(titles)"
   ]
  },
  {
   "cell_type": "code",
   "execution_count": null,
   "id": "4914b8ad",
   "metadata": {},
   "outputs": [],
   "source": [
    "driver.close()"
   ]
  }
 ],
 "metadata": {
  "kernelspec": {
   "display_name": "Python 3",
   "language": "python",
   "name": "python3"
  },
  "language_info": {
   "codemirror_mode": {
    "name": "ipython",
    "version": 3
   },
   "file_extension": ".py",
   "mimetype": "text/x-python",
   "name": "python",
   "nbconvert_exporter": "python",
   "pygments_lexer": "ipython3",
   "version": "3.8.8"
  }
 },
 "nbformat": 4,
 "nbformat_minor": 5
}
